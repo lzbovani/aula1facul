{
  "nbformat": 4,
  "nbformat_minor": 0,
  "metadata": {
    "colab": {
      "provenance": []
    },
    "kernelspec": {
      "name": "python3",
      "display_name": "Python 3"
    },
    "language_info": {
      "name": "python"
    }
  },
  "cells": [
    {
      "cell_type": "code",
      "source": [
        "\n",
        "#isso é uma célula!!!!\n",
        "\n",
        "\n",
        "# a variavel foi iniciado quando foi atribuido um a ela\n",
        "nome = 'lucas'\n",
        "print(nome)\n",
        "\n",
        "#função: é um pedaço de codigo, as vezes oculto, que recebe alguns argumentos e realiza algum processamento\n",
        "#função nativa: função propria do python! exemplo: a função print\n",
        "#função usuario: função criada pelo progamador\n",
        "\n",
        "idade = 19\n",
        "print(idade)\n",
        "\n"
      ],
      "metadata": {
        "id": "Nsjc8NzZFpCo",
        "colab": {
          "base_uri": "https://localhost:8080/"
        },
        "outputId": "9b51462a-c841-44f3-dfdf-c46e18c49fa8"
      },
      "execution_count": null,
      "outputs": [
        {
          "output_type": "stream",
          "name": "stdout",
          "text": [
            "lucas\n",
            "19\n"
          ]
        }
      ]
    },
    {
      "cell_type": "code",
      "source": [
        "aula = '1tscpf'\n",
        "print(aula)"
      ],
      "metadata": {
        "colab": {
          "base_uri": "https://localhost:8080/"
        },
        "id": "dt6u-gWVUu7v",
        "outputId": "4f31fce7-89a6-4144-caaa-4b930b5fdaea"
      },
      "execution_count": null,
      "outputs": [
        {
          "output_type": "stream",
          "name": "stdout",
          "text": [
            "1tscpf\n"
          ]
        }
      ]
    },
    {
      "cell_type": "code",
      "source": [
        "#preciso controlar o fluxo do programa\n",
        "\n",
        "idade1 = 18\n",
        "idade2 = 45\n",
        "#primeira instrução condicional!!!\n",
        "#IF em portugues significa \"se\"\n",
        "if idade1 <= 18 and idade2 >=46:\n",
        "  print('vc não tem idade pra isso')\n",
        "  print('mesmo!!!')\n",
        "else: #senao\n",
        "  print('vc tem idade pra isso')\n",
        "  print('sim!!!')\n",
        "# o espaço antes da instrução se chama identação"
      ],
      "metadata": {
        "colab": {
          "base_uri": "https://localhost:8080/"
        },
        "id": "d-gVLDRvU4cj",
        "outputId": "55dd9156-4e05-478f-e423-36725ae30b85"
      },
      "execution_count": null,
      "outputs": [
        {
          "output_type": "stream",
          "name": "stdout",
          "text": [
            "vc tem idade pra isso\n",
            "sim!!!\n"
          ]
        }
      ]
    },
    {
      "cell_type": "code",
      "source": [
        "idade = int(input('Digite sua idade: '))\n",
        "if idade >= 18:\n",
        "  print('vc é maior de idade')\n",
        "else:\n",
        "  print('vc é menor de idade')"
      ],
      "metadata": {
        "colab": {
          "base_uri": "https://localhost:8080/"
        },
        "id": "Hq-lq03GYrOj",
        "outputId": "0a068c89-f187-4014-cb3b-22b9cb663228"
      },
      "execution_count": null,
      "outputs": [
        {
          "output_type": "stream",
          "name": "stdout",
          "text": [
            "Digite sua idade: 12\n",
            "vc é menor de idade\n"
          ]
        }
      ]
    },
    {
      "cell_type": "code",
      "source": [
        "\n",
        "idade = int(input('Digite sua idade: '))\n",
        "\n",
        "\"\"\"if idade < 18:\n",
        "  print('idade imvalida')\n",
        "elif idade > 65:\n",
        "  print('idade invalida')\n",
        "else:\n",
        "  print('idade valida')\"\"\""
      ],
      "metadata": {
        "colab": {
          "base_uri": "https://localhost:8080/"
        },
        "id": "lMxsJRu0ZdNJ",
        "outputId": "afc490a2-4404-4dc7-a20d-bc52abf20681"
      },
      "execution_count": null,
      "outputs": [
        {
          "output_type": "stream",
          "name": "stdout",
          "text": [
            "Digite sua idade: 18\n",
            "A idade é válida\n"
          ]
        }
      ]
    },
    {
      "cell_type": "code",
      "source": [
        "idades = [46,48,11,9]\n",
        "maior = -1\n",
        "\n",
        "#for é um laço, loop\n",
        "for idade in idades:\n",
        "  if idade > maior:\n",
        "    maior = idade\n",
        "print(maior)\n"
      ],
      "metadata": {
        "colab": {
          "base_uri": "https://localhost:8080/"
        },
        "id": "c2twsyGEf3YP",
        "outputId": "48da7f76-54c2-4878-f552-78e49d8edd2f"
      },
      "execution_count": null,
      "outputs": [
        {
          "output_type": "stream",
          "name": "stdout",
          "text": [
            "48\n"
          ]
        }
      ]
    },
    {
      "cell_type": "code",
      "source": [
        "\"\"\"numero1 = int(input(\"Digite o primeiro numero: \"))\n",
        "numero2 = int(input(\"Digite o segundo numero: \"))\n",
        "if numero1 > numero2:\n",
        "  print(numero1)\n",
        "elif numero2 > numero1:\n",
        "  print(numero2)\n",
        "else:\n",
        "    print(\"Os numeros sao iguais\")\"\"\"\n",
        "\n",
        "\n",
        "\n",
        "#modulariza\n",
        "#criar uma funcao\n",
        "def comparar(n1,n2):\n",
        "  if n1 > n2:\n",
        "    print(n1, 'é maior ')\n",
        "  elif n2 > n1:\n",
        "    print(n2, 'é maior')\n",
        "  else:\n",
        "    print(\"Os numeros sao iguais\")\n",
        "\n",
        "\n",
        "numero1 = int(input(\"Digite o primeiro numero: \"))\n",
        "numero2 = int(input(\"Digite o segundo numero: \"))\n",
        "comparar(numero1, numero2)\n",
        "\n"
      ],
      "metadata": {
        "colab": {
          "base_uri": "https://localhost:8080/"
        },
        "id": "9gEETzDMhZhq",
        "outputId": "03dbf13d-dbdf-43a5-e5fb-d26151f7ba6f"
      },
      "execution_count": null,
      "outputs": [
        {
          "output_type": "stream",
          "name": "stdout",
          "text": [
            "Digite o primeiro numero: 15\n",
            "Digite o segundo numero: 14\n",
            "15 é maior \n"
          ]
        }
      ]
    },
    {
      "cell_type": "code",
      "source": [
        "nomes = [\"fernando\", 'patrick', 'thalita', 'luana']\n",
        "\n",
        "for posicao, nome in enumerate (nomes):\n",
        "  if posicao ==1:\n",
        "    print(nome)\n",
        "\n",
        "\n",
        "print(nomes[2])"
      ],
      "metadata": {
        "colab": {
          "base_uri": "https://localhost:8080/"
        },
        "id": "pvQG4uCkkU3n",
        "outputId": "6b5c6b33-6f21-49f1-8182-10df20a221f1"
      },
      "execution_count": null,
      "outputs": [
        {
          "output_type": "stream",
          "name": "stdout",
          "text": [
            "patrick\n",
            "thalita\n"
          ]
        }
      ]
    },
    {
      "cell_type": "code",
      "source": [
        "n1 = 30\n",
        "n2 = 2\n",
        "\n",
        "print(n1 + n2)\n",
        "print(n1 - n2)\n",
        "print(n1 * n2)\n",
        "print(n1 / n2)\n",
        "print(n1 // n2) #divisão inteira\n",
        "print(n1 % n2) #resto da divisão\n",
        "\n",
        "print(n1 + n2 * n2)"
      ],
      "metadata": {
        "colab": {
          "base_uri": "https://localhost:8080/"
        },
        "id": "Gsxn1AvYlfnm",
        "outputId": "9f01559e-49fc-4cb3-e2b5-069ba66c5130"
      },
      "execution_count": null,
      "outputs": [
        {
          "output_type": "stream",
          "name": "stdout",
          "text": [
            "32\n",
            "28\n",
            "60\n",
            "15.0\n",
            "15\n",
            "0\n",
            "34\n"
          ]
        }
      ]
    },
    {
      "cell_type": "code",
      "source": [
        "def imprimir_numeros(lista):\n",
        "    contador = 0\n",
        "    tamanho_lista = 0\n",
        "\n",
        "\n",
        "    for _ in lista:\n",
        "        tamanho_lista += 1\n",
        "\n",
        "    for numero in lista:\n",
        "        print(numero)\n",
        "        contador += 1\n",
        "\n",
        "    print(f\"Total de números impressos: {contador}\")\n",
        "    print(f\"Quantidade de elementos na lista: {tamanho_lista}\")\n",
        "\n",
        "\n",
        "\n",
        "numeros = []\n",
        "\n",
        "quantidade = int(input(\"Quantos números você deseja adicionar à lista? \"))\n",
        "\n",
        "for i in range(quantidade):\n",
        "    numero = int(input(f\"Digite o {i+1}º número: \"))\n",
        "    numeros.append(numero)\n",
        "\n",
        "\n",
        "imprimir_numeros(numeros)\n"
      ],
      "metadata": {
        "colab": {
          "base_uri": "https://localhost:8080/"
        },
        "id": "xOiWpnchm194",
        "outputId": "fcfe9c79-13e6-4289-bff6-696207afee32"
      },
      "execution_count": null,
      "outputs": [
        {
          "output_type": "stream",
          "name": "stdout",
          "text": [
            "Quantos números você deseja adicionar à lista? 2\n",
            "Digite o 1º número: 10\n",
            "Digite o 2º número: 14\n",
            "10\n",
            "14\n",
            "Total de números impressos: 2\n",
            "Quantidade de elementos na lista: 2\n"
          ]
        }
      ]
    },
    {
      "cell_type": "code",
      "source": [
        "#exercicio 3\n",
        "def analisar_lista(lista):\n",
        "    print(\"Elementos da lista:\")\n",
        "    for elemento in lista:\n",
        "        print(elemento)\n",
        "\n",
        "    maiores_que_10 = 0\n",
        "    menores_que_5 = 0\n",
        "\n",
        "    for elemento in lista:\n",
        "        if elemento > 10:\n",
        "            maiores_que_10 += 1\n",
        "        if elemento < 5:\n",
        "            menores_que_5 += 1\n",
        "\n",
        "    print(f\"Quantidade de elementos maiores que 10: {maiores_que_10}\")\n",
        "    print(f\"Quantidade de elementos menores que 5: {menores_que_5}\")\n",
        "\n",
        "# Coletando os números da lista com entrada do usuário\n",
        "numeros = []\n",
        "quantidade = int(input(\"Quantos números você deseja adicionar à lista? \"))\n",
        "\n",
        "for i in range(quantidade):\n",
        "    numero = int(input(f\"Digite o {i+1}º número: \"))\n",
        "    numeros.append(numero)\n",
        "\n",
        "# Chamando a função de análise\n",
        "analisar_lista(numeros)\n"
      ],
      "metadata": {
        "colab": {
          "base_uri": "https://localhost:8080/"
        },
        "id": "5B3E1QyvwC6Y",
        "outputId": "b0da2d74-ade9-4253-a9b2-713db820bc95"
      },
      "execution_count": null,
      "outputs": [
        {
          "output_type": "stream",
          "name": "stdout",
          "text": [
            "Quantos números você deseja adicionar à lista? 4\n",
            "Digite o 1º número: 15\n",
            "Digite o 2º número: 4\n",
            "Digite o 3º número: 2\n",
            "Digite o 4º número: 19\n",
            "Elementos da lista:\n",
            "15\n",
            "4\n",
            "2\n",
            "19\n",
            "Quantidade de elementos maiores que 10: 2\n",
            "Quantidade de elementos menores que 5: 2\n"
          ]
        }
      ]
    },
    {
      "cell_type": "code",
      "source": [
        "#exercicio 4\n",
        "\n",
        "def soma_pares_subtrai_impares(lista):\n",
        "    resultado = 0\n",
        "\n",
        "    for numero in lista:\n",
        "        if numero % 2 == 0:\n",
        "            resultado += numero  # soma os pares\n",
        "        else:\n",
        "            resultado -= numero  # subtrai os ímpares\n",
        "\n",
        "    print(f\"Resultado da soma dos pares e subtração dos ímpares: {resultado}\")\n",
        "# Coletar os números da lista\n",
        "numeros = []\n",
        "quantidade = int(input(\"Quantos números você deseja adicionar à lista? \"))\n",
        "\n",
        "for i in range(quantidade):\n",
        "    numero = int(input(f\"Digite o {i+1}º número: \"))\n",
        "    numeros.append(numero)\n",
        "\n",
        "# Exibir os elementos da lista\n",
        "print(\"\\nElementos da lista:\")\n",
        "for n in numeros:\n",
        "    print(n)\n",
        "\n",
        "# Chamar a função\n",
        "soma_pares_subtrai_impares(numeros)\n",
        "\n"
      ],
      "metadata": {
        "colab": {
          "base_uri": "https://localhost:8080/"
        },
        "id": "fB30c17PyLqh",
        "outputId": "ebae30f4-27c1-41af-b6e4-f2512c7bbfae"
      },
      "execution_count": null,
      "outputs": [
        {
          "output_type": "stream",
          "name": "stdout",
          "text": [
            "Quantos números você deseja adicionar à lista? 4\n",
            "Digite o 1º número: 4\n",
            "Digite o 2º número: 9\n",
            "Digite o 3º número: 14\n",
            "Digite o 4º número: 5\n",
            "\n",
            "Elementos da lista:\n",
            "4\n",
            "9\n",
            "14\n",
            "5\n",
            "Resultado da soma dos pares e subtração dos ímpares: 4\n"
          ]
        }
      ]
    },
    {
      "cell_type": "code",
      "source": [
        "#exercicio 5\n",
        "\n",
        "def gerar_fibonacci_em_lista(limite):\n",
        "    fibonacci = []\n",
        "\n",
        "    a = 1\n",
        "    b = 1\n",
        "\n",
        "    if limite >= 1:\n",
        "        fibonacci.append(a)\n",
        "        fibonacci.append(b)\n",
        "\n",
        "    while True:\n",
        "        proximo = a + b\n",
        "        if proximo > limite:\n",
        "            break\n",
        "        fibonacci.append(proximo)\n",
        "        a = b\n",
        "        b = proximo\n",
        "\n",
        "    print(\"Sequência de Fibonacci até\", limite, \":\")\n",
        "    for numero in fibonacci:\n",
        "        print(numero, end=\" \")\n",
        "\n",
        "\n",
        "n = int(input(\"Digite o valor limite para a sequência de Fibonacci: \"))\n",
        "gerar_fibonacci_em_lista(n)\n",
        "\n"
      ],
      "metadata": {
        "colab": {
          "base_uri": "https://localhost:8080/"
        },
        "id": "de9mb6H5yX1v",
        "outputId": "80fc50d5-f04c-44e9-bcf7-5b272b82a029"
      },
      "execution_count": null,
      "outputs": [
        {
          "output_type": "stream",
          "name": "stdout",
          "text": [
            "Digite o valor limite para a sequência de Fibonacci: 50\n",
            "Sequência de Fibonacci até 50 :\n",
            "1 1 2 3 5 8 13 21 34 "
          ]
        }
      ]
    },
    {
      "cell_type": "code",
      "source": [
        "def gerar_fibonacci_em_lista(limite):\n",
        "    fibonacci = []\n",
        "\n",
        "    a = 1\n",
        "    b = 1\n",
        "\n",
        "    if limite >= 1:\n",
        "        fibonacci.append(a)\n",
        "        fibonacci.append(b)\n",
        "\n",
        "    while True:\n",
        "        proximo = a + b\n",
        "        if proximo > limite:\n",
        "            break\n",
        "        fibonacci.append(proximo)\n",
        "        a = b\n",
        "        b = proximo\n",
        "\n",
        "    print(\"Sequência de Fibonacci até\", limite,\":\")\n",
        "    for numero in fibonacci:\n",
        "        print(numero, end=\" \")\n",
        "\n",
        "    print(f\"\\nTotal de números gerados: {len(fibonacci)}\")\n",
        "n = int(input(\"Digite o valor limite para a sequência de Fibonacci: \"))\n",
        "gerar_fibonacci_em_lista(n)\n",
        "\n"
      ],
      "metadata": {
        "colab": {
          "base_uri": "https://localhost:8080/"
        },
        "id": "D1jPC6Md1uqK",
        "outputId": "8ecfa20f-eda5-414a-ea63-0f095d3bc1ae"
      },
      "execution_count": null,
      "outputs": [
        {
          "output_type": "stream",
          "name": "stdout",
          "text": [
            "Digite o valor limite para a sequência de Fibonacci: 90\n",
            "Sequência de Fibonacci até 90 :\n",
            "1 1 2 3 5 8 13 21 34 55 89 \n",
            "Total de números gerados: 11\n"
          ]
        }
      ]
    },
    {
      "cell_type": "code",
      "source": [
        "def gerar_fibonacci_em_lista(limite):\n",
        "    fibonacci = []\n",
        "\n",
        "    a = 1\n",
        "    b = 1\n",
        "\n",
        "    # Adiciona os dois primeiros números (1 e 1)\n",
        "    if limite >= 1:\n",
        "        fibonacci.append(a)\n",
        "    if limite >= 2:\n",
        "        fibonacci.append(b)\n",
        "\n",
        "    # Calculando a quantidade de números a serem gerados\n",
        "    for i in range(2, limite):  # Começa a partir do 3º número\n",
        "        proximo = a + b\n",
        "        if proximo > limite:\n",
        "            break\n",
        "        fibonacci.append(proximo)\n",
        "        a = b\n",
        "        b = proximo\n",
        "\n",
        "    print(\"Sequência de Fibonacci até\", limite, \":\")\n",
        "    for numero in fibonacci:\n",
        "        print(numero, end=\" \")\n",
        "\n",
        "    print(f\"\\nTotal de números gerados: {len(fibonacci)}\")\n",
        "n = int(input(\"Digite o valor limite para a sequência de Fibonacci: \"))\n",
        "gerar_fibonacci_em_lista(n)\n",
        "\n"
      ],
      "metadata": {
        "colab": {
          "base_uri": "https://localhost:8080/"
        },
        "id": "Nnhs4S1MA77h",
        "outputId": "730f531e-8bae-4f9d-ec0e-208fb2e30b9a"
      },
      "execution_count": null,
      "outputs": [
        {
          "output_type": "stream",
          "name": "stdout",
          "text": [
            "Digite o valor limite para a sequência de Fibonacci: 9\n",
            "Sequência de Fibonacci até 9 :\n",
            "1 1 2 3 5 8 \n",
            "Total de números gerados: 6\n"
          ]
        }
      ]
    },
    {
      "cell_type": "code",
      "source": [
        "def tes(n1):\n",
        "  print(n1)\n",
        "tes(20)\n",
        "print(n1)"
      ],
      "metadata": {
        "id": "rKxR-H2RKz1z",
        "outputId": "31a024ff-796f-4a66-e424-24f12ea884af",
        "colab": {
          "base_uri": "https://localhost:8080/"
        }
      },
      "execution_count": null,
      "outputs": [
        {
          "output_type": "stream",
          "name": "stdout",
          "text": [
            "20\n",
            "30\n"
          ]
        }
      ]
    }
  ]
}