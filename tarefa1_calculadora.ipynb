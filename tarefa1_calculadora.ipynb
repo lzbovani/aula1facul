{
  "nbformat": 4,
  "nbformat_minor": 0,
  "metadata": {
    "colab": {
      "provenance": []
    },
    "kernelspec": {
      "name": "python3",
      "display_name": "Python 3"
    },
    "language_info": {
      "name": "python"
    }
  },
  "cells": [
    {
      "cell_type": "code",
      "source": [
        "def somar(x, y):\n",
        "    return x + y\n",
        "\n",
        "def subtrair(x, y):\n",
        "    return x - y\n",
        "\n",
        "def multiplicar(x, y):\n",
        "    return x * y\n",
        "\n",
        "def dividir(x, y):\n",
        "    return x / y\n",
        "\n",
        "def calculadora():\n",
        "    while True:\n",
        "        print(\"\\nSelecione a operação:\")\n",
        "        print(\"1. Soma\")\n",
        "        print(\"2. Subtração\")\n",
        "        print(\"3. Multiplicação\")\n",
        "        print(\"4. Divisão\")\n",
        "\n",
        "        operacao = input(\"Digite o número da operação (1/2/3/4) ou 'sair' para encerrar: \")\n",
        "\n",
        "        if operacao.lower() == 'sair':\n",
        "            print(\"Calculadora encerrada\")\n",
        "            break\n",
        "\n",
        "        if operacao == '1' or operacao == '2' or operacao == '3' or operacao == '4':\n",
        "            num1 = float(input(\"Digite o primeiro número: \"))\n",
        "\n",
        "            if operacao == '1':\n",
        "                num2 = float(input(\"Digite o segundo número: \"))\n",
        "                print(f\"{num1} + {num2} = {somar(num1, num2)}\")\n",
        "\n",
        "            elif operacao == '2':\n",
        "                num2 = float(input(\"Digite o segundo número: \"))\n",
        "                print(f\"{num1} - {num2} = {subtrair(num1, num2)}\")\n",
        "\n",
        "            elif operacao == '3':\n",
        "                num2 = float(input(\"Digite o segundo número: \"))\n",
        "                print(f\"{num1} * {num2} = {multiplicar(num1, num2)}\")\n",
        "\n",
        "            elif operacao == '4':\n",
        "                while True:\n",
        "                    num2 = float(input(\"Digite o segundo número: \"))\n",
        "                    if num2 != 0:\n",
        "                        print(f\"{num1} / {num2} = {dividir(num1, num2)}\")\n",
        "                        break\n",
        "                    else:\n",
        "                        print(\"Erro! Divisão por zero.\")\n",
        "        else:\n",
        "            print(\"Operação inválida.\")\n",
        "\n",
        "calculadora()\n"
      ],
      "metadata": {
        "colab": {
          "base_uri": "https://localhost:8080/"
        },
        "id": "IgPStVul34p5",
        "outputId": "f2caeff3-cc97-4bc9-e15c-4320c4964537"
      },
      "execution_count": 9,
      "outputs": [
        {
          "output_type": "stream",
          "name": "stdout",
          "text": [
            "\n",
            "Selecione a operação:\n",
            "1. Soma\n",
            "2. Subtração\n",
            "3. Multiplicação\n",
            "4. Divisão\n",
            "Digite o número da operação (1/2/3/4) ou 'sair' para encerrar: 1\n",
            "\n",
            "Digite o primeiro número: 4\n",
            "Digite o segundo número: 4\n",
            "4.0 + 4.0 = 8.0\n",
            "\n",
            "Selecione a operação:\n",
            "1. Soma\n",
            "2. Subtração\n",
            "3. Multiplicação\n",
            "4. Divisão\n",
            "Digite o número da operação (1/2/3/4) ou 'sair' para encerrar: 4\n",
            "\n",
            "Digite o primeiro número: 10\n",
            "Digite o segundo número: 0\n",
            "\n",
            "Erro! Divisão por zero.\n",
            "Digite o segundo número: 2\n",
            "10.0 / 2.0 = 5.0\n",
            "\n",
            "Selecione a operação:\n",
            "1. Soma\n",
            "2. Subtração\n",
            "3. Multiplicação\n",
            "4. Divisão\n",
            "Digite o número da operação (1/2/3/4) ou 'sair' para encerrar: sair\n",
            "Calculadora encerrada\n"
          ]
        }
      ]
    }
  ]
}